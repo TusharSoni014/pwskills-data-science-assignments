{
 "cells": [
  {
   "cell_type": "markdown",
   "id": "a84fa0b4",
   "metadata": {},
   "source": [
    "#### How do you comment code in Python? What are the different types of comments?"
   ]
  },
  {
   "cell_type": "code",
   "execution_count": 4,
   "id": "3297fe59",
   "metadata": {},
   "outputs": [
    {
     "data": {
      "text/plain": [
       "'\\nmulti\\nline\\ncomment\\n'"
      ]
     },
     "execution_count": 4,
     "metadata": {},
     "output_type": "execute_result"
    }
   ],
   "source": [
    "# comment\n",
    "\n",
    "'''\n",
    "multi\n",
    "line\n",
    "comment\n",
    "'''"
   ]
  },
  {
   "cell_type": "markdown",
   "id": "5228c26f",
   "metadata": {},
   "source": [
    "#### What are variables in Python? How do you declare and assign values to variables?"
   ]
  },
  {
   "cell_type": "markdown",
   "id": "c24ab5b4",
   "metadata": {},
   "source": [
    "In Python, variables are used to store and manipulate data. A variable is essentially a named location in the computer's memory where a value can be stored. It allows you to refer to the stored value by its assigned name."
   ]
  },
  {
   "cell_type": "code",
   "execution_count": 6,
   "id": "f9da23dd",
   "metadata": {},
   "outputs": [],
   "source": [
    "age = 25\n",
    "name = \"Tushar Soni\"\n",
    "pi = 3.14\n",
    "is_pw_student = True"
   ]
  },
  {
   "cell_type": "markdown",
   "id": "e4d97ce0",
   "metadata": {},
   "source": [
    "#### How do you convert one data type to another in Python?"
   ]
  },
  {
   "cell_type": "code",
   "execution_count": 8,
   "id": "705f2f99",
   "metadata": {},
   "outputs": [],
   "source": [
    "num = int(\"10\")  # Converts the string \"10\" to the integer 10\n",
    "num = float(\"3.14\")  # Converts the string \"3.14\" to the float 3.14\n",
    "text = str(42)  # Converts the integer 42 to the string \"42\"\n",
    "is_true = bool(1)  # Converts the integer 1 to the boolean True\n",
    "numbers = list((1, 2, 3))  # Converts the tuple (1, 2, 3) to the list [1, 2, 3]\n",
    "items = tuple([1, 2, 3])  # Converts the list [1, 2, 3] to the tuple (1, 2, 3)\n",
    "unique_numbers = set([1, 2, 3, 2, 1])  # Converts the list to a set {1, 2, 3}\n",
    "person = dict(name=\"John\", age=30)  # Converts the key-value pairs to a dictionary {'name': 'John', 'age': 30}"
   ]
  },
  {
   "cell_type": "markdown",
   "id": "138e3b59",
   "metadata": {},
   "source": [
    "#### How do you write and execute a Python script from the command line?"
   ]
  },
  {
   "cell_type": "markdown",
   "id": "07e7fa17",
   "metadata": {},
   "source": [
    "To write and execute a Python script from the command line, follow these steps:\n",
    "\n",
    "Open a text editor and create a new file. Save it with a .py extension, which is the convention for Python scripts. For example, I can save the file as script.py.\n",
    "\n",
    "Write your Python code in the file using the text editor. For example, you can write a simple \"Hello, World!\"."
   ]
  },
  {
   "cell_type": "code",
   "execution_count": 10,
   "id": "d542c44c",
   "metadata": {},
   "outputs": [
    {
     "name": "stdout",
     "output_type": "stream",
     "text": [
      "Hello World!!\n"
     ]
    }
   ],
   "source": [
    "print(\"Hello World!!\")"
   ]
  },
  {
   "cell_type": "markdown",
   "id": "cf025602",
   "metadata": {},
   "source": [
    "Now save this file, and open terminal or cmd in that folder, now write \"python script.py\".\n",
    "It will exeute the file and will show the output."
   ]
  },
  {
   "cell_type": "markdown",
   "id": "5749cf53",
   "metadata": {},
   "source": [
    "#### Given a list my_list = [1, 2, 3, 4, 5], write the code to slice the list and obtain the sub-list [2, 3]."
   ]
  },
  {
   "cell_type": "code",
   "execution_count": 12,
   "id": "c9ece022",
   "metadata": {},
   "outputs": [
    {
     "name": "stdout",
     "output_type": "stream",
     "text": [
      "[2, 3]\n"
     ]
    }
   ],
   "source": [
    "my_list = [1, 2, 3, 4, 5]\n",
    "print(my_list[1:3])"
   ]
  },
  {
   "cell_type": "markdown",
   "id": "1e287468",
   "metadata": {},
   "source": [
    "#### What is a complex number in mathematics, and how is it represented in Python?"
   ]
  },
  {
   "cell_type": "markdown",
   "id": "0431d223",
   "metadata": {},
   "source": [
    "In mathematics, a complex number is a number that can be expressed in the form a + bi, where a and b are real numbers, and i is the imaginary unit defined as the square root of -1. The real part a represents the real number component, and the imaginary part b represents the imaginary number component."
   ]
  },
  {
   "cell_type": "code",
   "execution_count": 14,
   "id": "1ebd281b",
   "metadata": {},
   "outputs": [],
   "source": [
    "z = 2 + 3j #complex number in python, where 2 is real part and 3j is imaginary part."
   ]
  },
  {
   "cell_type": "markdown",
   "id": "c6bb95de",
   "metadata": {},
   "source": [
    "#### What is the correct way to declare a variable named age and assign the value 25 to it?"
   ]
  },
  {
   "cell_type": "code",
   "execution_count": 16,
   "id": "c7b42f02",
   "metadata": {},
   "outputs": [],
   "source": [
    "age = 25"
   ]
  },
  {
   "cell_type": "markdown",
   "id": "95e7caac",
   "metadata": {},
   "source": [
    "#### Declare a variable named price and assign the value 9.99 to it. What data type does this variable belong to?"
   ]
  },
  {
   "cell_type": "code",
   "execution_count": 18,
   "id": "ac38c44c",
   "metadata": {},
   "outputs": [
    {
     "name": "stdout",
     "output_type": "stream",
     "text": [
      "<class 'float'>\n"
     ]
    }
   ],
   "source": [
    "price = 9.99\n",
    "print(type(price)) #output: <class 'float'>"
   ]
  },
  {
   "cell_type": "markdown",
   "id": "d11a67b8",
   "metadata": {},
   "source": [
    "#### Create a variable named name and assign your full name to it as a string. How would you print the value of this variable?"
   ]
  },
  {
   "cell_type": "code",
   "execution_count": 21,
   "id": "bf2ad710",
   "metadata": {},
   "outputs": [
    {
     "name": "stdout",
     "output_type": "stream",
     "text": [
      "Tushar Soni\n"
     ]
    }
   ],
   "source": [
    "name = \"Tushar Soni\"\n",
    "print(name)"
   ]
  },
  {
   "cell_type": "markdown",
   "id": "0172fa77",
   "metadata": {},
   "source": [
    "#### Given the string \"Hello, World!\", extract the substring \"World\"."
   ]
  },
  {
   "cell_type": "code",
   "execution_count": 24,
   "id": "bb8e0470",
   "metadata": {},
   "outputs": [
    {
     "name": "stdout",
     "output_type": "stream",
     "text": [
      "World\n"
     ]
    }
   ],
   "source": [
    "string = \"Hello, World!\"\n",
    "print(string[7:12])"
   ]
  },
  {
   "cell_type": "markdown",
   "id": "7291c651",
   "metadata": {},
   "source": [
    "#### Create a variable named \"is_student\" and assign it a boolean value indicating whether you are currently a student or not."
   ]
  },
  {
   "cell_type": "code",
   "execution_count": 25,
   "id": "00e5f286",
   "metadata": {},
   "outputs": [
    {
     "name": "stdout",
     "output_type": "stream",
     "text": [
      "You are a student with us !\n"
     ]
    }
   ],
   "source": [
    "is_student = True\n",
    "\n",
    "if (is_student):\n",
    "    print(\"You are a student with us !\")\n",
    "else:\n",
    "    print(\"You are not a student with us till now, Subscribe to become one :)\")"
   ]
  }
 ],
 "metadata": {
  "kernelspec": {
   "display_name": "Python 3 (ipykernel)",
   "language": "python",
   "name": "python3"
  },
  "language_info": {
   "codemirror_mode": {
    "name": "ipython",
    "version": 3
   },
   "file_extension": ".py",
   "mimetype": "text/x-python",
   "name": "python",
   "nbconvert_exporter": "python",
   "pygments_lexer": "ipython3",
   "version": "3.11.0"
  }
 },
 "nbformat": 4,
 "nbformat_minor": 5
}
