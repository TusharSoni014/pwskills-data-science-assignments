{
 "cells": [
  {
   "cell_type": "markdown",
   "id": "05b0266c",
   "metadata": {},
   "source": [
    "Q1. Create one variable containing following type of data:\n",
    "(i) string\n",
    "(ii) list\n",
    "(iii) float\n",
    "(iv) tuple"
   ]
  },
  {
   "cell_type": "code",
   "execution_count": 2,
   "id": "c1017acc",
   "metadata": {},
   "outputs": [],
   "source": [
    "var1 = \"string\"\n",
    "var2 = [1,2,3,4,5]\n",
    "var3 = 12.34\n",
    "var4 = (1,2,3,4)"
   ]
  },
  {
   "cell_type": "markdown",
   "id": "1d16a08e",
   "metadata": {},
   "source": [
    "Q2. Given are some following variables containing data:\n",
    "(i) var1 = ‘ ‘\n",
    "(ii) var2 = ‘[ DS , ML , Python]’\n",
    "(iii) var3 = [ ‘DS’ , ’ML’ , ‘Python’ ]\n",
    "(iv) var4 = 1."
   ]
  },
  {
   "cell_type": "code",
   "execution_count": 5,
   "id": "a6fcc234",
   "metadata": {},
   "outputs": [
    {
     "name": "stdout",
     "output_type": "stream",
     "text": [
      "<class 'str'>\n",
      "<class 'str'>\n",
      "<class 'list'>\n",
      "<class 'int'>\n"
     ]
    }
   ],
   "source": [
    "var1 = \"\"\n",
    "var2 = \"[ DS , ML , Python]\"\n",
    "var3 = [ \"DS\" , \"ML\" , \"Python\" ]\n",
    "var4 = 1\n",
    "\n",
    "print(type(var1))\n",
    "print(type(var2))\n",
    "print(type(var3))\n",
    "print(type(var4))"
   ]
  },
  {
   "cell_type": "markdown",
   "id": "2549d456",
   "metadata": {},
   "source": [
    "Q3. Explain the use of the following operators using an example:\n",
    "(i) /\n",
    "(ii) %\n",
    "(iii) //\n",
    "(iv) **"
   ]
  },
  {
   "cell_type": "code",
   "execution_count": 7,
   "id": "cd6fb79b",
   "metadata": {},
   "outputs": [
    {
     "name": "stdout",
     "output_type": "stream",
     "text": [
      "1.6666666666666667\n",
      "4\n",
      "1\n",
      "1000000\n"
     ]
    }
   ],
   "source": [
    "a = 10\n",
    "b = 6\n",
    "\n",
    "print(a/b) #normal division\n",
    "print(a%b) #shows remainder\n",
    "print(a//b) #shows quotient\n",
    "print(a**b) #a to the power b"
   ]
  },
  {
   "cell_type": "markdown",
   "id": "3efaffb6",
   "metadata": {},
   "source": [
    "Q4. Create a list of length 10 of your choice containing multiple types of data. Using for loop print the\n",
    "element and its data type."
   ]
  },
  {
   "cell_type": "code",
   "execution_count": 12,
   "id": "4e1cc637",
   "metadata": {},
   "outputs": [
    {
     "name": "stdout",
     "output_type": "stream",
     "text": [
      "1\n",
      "<class 'int'>\n",
      "----------\n",
      "2.3\n",
      "<class 'float'>\n",
      "----------\n",
      "str\n",
      "<class 'str'>\n",
      "----------\n",
      "[1, 2, 3]\n",
      "<class 'list'>\n",
      "----------\n",
      "{1, 2, 3}\n",
      "<class 'set'>\n",
      "----------\n",
      "{'key': 'value'}\n",
      "<class 'dict'>\n",
      "----------\n",
      "True\n",
      "<class 'bool'>\n",
      "----------\n",
      "(5+2j)\n",
      "<class 'complex'>\n",
      "----------\n",
      "(1, 2, 3)\n",
      "<class 'tuple'>\n",
      "----------\n",
      "None\n",
      "<class 'NoneType'>\n",
      "----------\n"
     ]
    }
   ],
   "source": [
    "lst = [1,2.3,\"str\",[1,2,3],{1,2,3},{\"key\":\"value\"},True,5+2j,(1,2,3),None]\n",
    "\n",
    "for element in lst:\n",
    "    print(element)\n",
    "    print(type(element))\n",
    "    print(\"----------\")"
   ]
  },
  {
   "cell_type": "markdown",
   "id": "dd477c70",
   "metadata": {},
   "source": [
    "Q5. Using a while loop, verify if the number A is purely divisible by number B and if so then how many\n",
    "times it can be divisible."
   ]
  },
  {
   "cell_type": "code",
   "execution_count": 45,
   "id": "084439a4",
   "metadata": {},
   "outputs": [
    {
     "name": "stdout",
     "output_type": "stream",
     "text": [
      "a is divisible by b, and it can be divided 1 times.\n"
     ]
    }
   ],
   "source": [
    "a = 1122\n",
    "b = 11\n",
    "count = 0\n",
    "\n",
    "#with while loop  \n",
    "while a%b == 0:\n",
    "    a = a//b #step by step division\n",
    "    count += 1\n",
    "    \n",
    "if count > 0:\n",
    "    print(f\"a is divisible by b, and it can be divided {count} times.\")\n",
    "else:\n",
    "    print(\"a is not divisible by b.\")\n",
    "\n",
    "\n",
    "#alternate way without while loop\n",
    "# if(a%b == 0):\n",
    "#     quotient_length = len(str(a//b))\n",
    "#     print(quotient_length)\n",
    "# else:\n",
    "#     print(\"its not perfectly divisible\")"
   ]
  },
  {
   "cell_type": "markdown",
   "id": "a9f91b79",
   "metadata": {},
   "source": [
    "Q6. Create a list containing 25 int type data. Using for loop and if-else condition print if the element is\n",
    "divisible by 3 or not."
   ]
  },
  {
   "cell_type": "code",
   "execution_count": 48,
   "id": "ff0fe9ca",
   "metadata": {},
   "outputs": [
    {
     "name": "stdout",
     "output_type": "stream",
     "text": [
      "1 is not divisible by 3\n",
      "2 is not divisible by 3\n",
      "3 is divisible by 3\n",
      "4 is not divisible by 3\n",
      "5 is not divisible by 3\n",
      "6 is divisible by 3\n",
      "7 is not divisible by 3\n",
      "8 is not divisible by 3\n",
      "9 is divisible by 3\n",
      "10 is not divisible by 3\n",
      "11 is not divisible by 3\n",
      "12 is divisible by 3\n",
      "13 is not divisible by 3\n",
      "14 is not divisible by 3\n",
      "15 is divisible by 3\n",
      "16 is not divisible by 3\n",
      "17 is not divisible by 3\n",
      "18 is divisible by 3\n",
      "19 is not divisible by 3\n",
      "20 is not divisible by 3\n",
      "21 is divisible by 3\n",
      "22 is not divisible by 3\n",
      "23 is not divisible by 3\n",
      "24 is divisible by 3\n",
      "25 is not divisible by 3\n"
     ]
    }
   ],
   "source": [
    "lst = list(range(1,26))\n",
    "\n",
    "for element in lst:\n",
    "    if(element%3 == 0):\n",
    "        print(f\"{element} is divisible by 3\")\n",
    "    else:\n",
    "        print(f\"{element} is not divisible by 3\")"
   ]
  },
  {
   "cell_type": "markdown",
   "id": "67acd6ee",
   "metadata": {},
   "source": [
    "Q7. What do you understand about mutable and immutable data types? Give examples for both showing\n",
    "this property."
   ]
  },
  {
   "cell_type": "code",
   "execution_count": 50,
   "id": "b64d141f",
   "metadata": {},
   "outputs": [
    {
     "ename": "TypeError",
     "evalue": "'tuple' object does not support item assignment",
     "output_type": "error",
     "traceback": [
      "\u001b[1;31m---------------------------------------------------------------------------\u001b[0m",
      "\u001b[1;31mTypeError\u001b[0m                                 Traceback (most recent call last)",
      "Cell \u001b[1;32mIn[50], line 5\u001b[0m\n\u001b[0;32m      2\u001b[0m tupl \u001b[38;5;241m=\u001b[39m (\u001b[38;5;241m1\u001b[39m,\u001b[38;5;241m2\u001b[39m,\u001b[38;5;241m3\u001b[39m,\u001b[38;5;241m4\u001b[39m,\u001b[38;5;241m5\u001b[39m)\n\u001b[0;32m      4\u001b[0m lst[\u001b[38;5;241m3\u001b[39m] \u001b[38;5;241m=\u001b[39m \u001b[38;5;241m99\u001b[39m \u001b[38;5;66;03m#it will successfully change\u001b[39;00m\n\u001b[1;32m----> 5\u001b[0m \u001b[43mtupl\u001b[49m\u001b[43m[\u001b[49m\u001b[38;5;241;43m3\u001b[39;49m\u001b[43m]\u001b[49m \u001b[38;5;241m=\u001b[39m \u001b[38;5;241m99\u001b[39m \u001b[38;5;66;03m#output: tuple' object does not support item assignment\u001b[39;00m\n\u001b[0;32m      7\u001b[0m \u001b[38;5;66;03m#therefore we cannot change the existing values in immutable objects, and also we cannot add new values in existing tuple objects.\u001b[39;00m\n",
      "\u001b[1;31mTypeError\u001b[0m: 'tuple' object does not support item assignment"
     ]
    }
   ],
   "source": [
    "lst = [1,2,3,4,5]\n",
    "tupl = (1,2,3,4,5)\n",
    "\n",
    "lst[3] = 99 #it will successfully change\n",
    "tupl[3] = 99 #output: tuple' object does not support item assignment\n",
    "\n",
    "#therefore we cannot change the existing values in immutable objects, and also we cannot add new values in existing tuple objects."
   ]
  },
  {
   "cell_type": "code",
   "execution_count": null,
   "id": "5d20507c",
   "metadata": {},
   "outputs": [],
   "source": []
  }
 ],
 "metadata": {
  "kernelspec": {
   "display_name": "Python 3 (ipykernel)",
   "language": "python",
   "name": "python3"
  },
  "language_info": {
   "codemirror_mode": {
    "name": "ipython",
    "version": 3
   },
   "file_extension": ".py",
   "mimetype": "text/x-python",
   "name": "python",
   "nbconvert_exporter": "python",
   "pygments_lexer": "ipython3",
   "version": "3.11.0"
  }
 },
 "nbformat": 4,
 "nbformat_minor": 5
}
