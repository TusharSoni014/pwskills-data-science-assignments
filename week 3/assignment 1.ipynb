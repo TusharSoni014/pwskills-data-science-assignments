{
 "cells": [
  {
   "cell_type": "markdown",
   "id": "23ffa849",
   "metadata": {},
   "source": [
    "#### Q1. Which keyword is used to create a function? Create a function to return a list of odd numbers in the range of 1 to 25."
   ]
  },
  {
   "cell_type": "markdown",
   "id": "702dac98",
   "metadata": {},
   "source": [
    "'def' keyword is used to define a new function."
   ]
  },
  {
   "cell_type": "code",
   "execution_count": 3,
   "id": "9100de9f",
   "metadata": {},
   "outputs": [
    {
     "data": {
      "text/plain": [
       "[1, 3, 5, 7, 9, 11, 13, 15, 17, 19, 21, 23]"
      ]
     },
     "execution_count": 3,
     "metadata": {},
     "output_type": "execute_result"
    }
   ],
   "source": [
    "def findodd(rng):\n",
    "    \"\"\"this function returns a list of odd number from 1 to given range.\"\"\"\n",
    "    l = []\n",
    "    for n in range(rng):\n",
    "        if (n%2 != 0):\n",
    "            l.append(n)\n",
    "    return l\n",
    "\n",
    "findodd(25)\n"
   ]
  },
  {
   "cell_type": "markdown",
   "id": "d7e2d9c2",
   "metadata": {},
   "source": [
    "#### Q2. Why *args and **kwargs is used in some functions? Create a function each for *args and **kwargs to demonstrate their use."
   ]
  },
  {
   "cell_type": "markdown",
   "id": "a326401b",
   "metadata": {},
   "source": [
    " * *args and **kwargs are used to handle a variable number of arguments in functions.\n",
    "* The args parameter allows a function to accept any number of positional arguments. It collects all the positional arguments passed to the function into a tuple. The term \"args\" is just a convention; you can choose any valid variable name preceded by an asterisk (*).\n",
    "* On the other hand, kwargs stands for \"keyword arguments\" and allows a function to accept any number of keyword arguments as a dictionary. The term \"kwargs\" is just a convention; you can choose any valid variable name preceded by two asterisks (**)."
   ]
  },
  {
   "cell_type": "markdown",
   "id": "402e04d1",
   "metadata": {},
   "source": [
    "#### Args(*)"
   ]
  },
  {
   "cell_type": "code",
   "execution_count": 2,
   "id": "bddeb1e2",
   "metadata": {},
   "outputs": [
    {
     "name": "stdout",
     "output_type": "stream",
     "text": [
      "6\n",
      "22\n"
     ]
    }
   ],
   "source": [
    "def sum_numbers(*args):\n",
    "    total = 0\n",
    "    for num in args:\n",
    "        total += num\n",
    "    return total\n",
    "\n",
    "print(sum_numbers(1, 2, 3))\n",
    "print(sum_numbers(4, 5, 6, 7)) "
   ]
  },
  {
   "cell_type": "markdown",
   "id": "f6bccdb5",
   "metadata": {},
   "source": [
    "#### kwargs(**)"
   ]
  },
  {
   "cell_type": "code",
   "execution_count": 4,
   "id": "a16ded6e",
   "metadata": {},
   "outputs": [
    {
     "name": "stdout",
     "output_type": "stream",
     "text": [
      "name: tushar\n",
      "age: 21\n",
      "country: India\n",
      "skills: ['web developer', 'data science enthusiast']\n"
     ]
    }
   ],
   "source": [
    "def print_details(**kwargs):\n",
    "    for key, value in kwargs.items():\n",
    "        print(f\"{key}: {value}\")\n",
    "\n",
    "print_details(name=\"tushar\", age=21, country=\"India\", skills=[\"web developer\",\"data science enthusiast\"])\n"
   ]
  },
  {
   "cell_type": "markdown",
   "id": "60105d71",
   "metadata": {},
   "source": [
    "#### Q3. What is an iterator in python? Name the method used to initialise the iterator object and the method used for iteration. Use these methods to print the first five elements of the given list [2, 4, 6, 8, 10, 12, 14, 16, 18, 20]."
   ]
  },
  {
   "cell_type": "markdown",
   "id": "987da25e",
   "metadata": {},
   "source": [
    "* An iterator in Python is an object that enables iteration over a collection of elements. It provides a way to access elements from the collection sequentially, one at a time, without the need to store the entire collection in memory.\n",
    "\n",
    "* To initialize an iterator object, we use the iter() function, which takes an iterable as an argument and returns an iterator object. The iterator object can then be used to iterate over the elements."
   ]
  },
  {
   "cell_type": "code",
   "execution_count": 9,
   "id": "3e399b74",
   "metadata": {},
   "outputs": [
    {
     "name": "stdout",
     "output_type": "stream",
     "text": [
      "2\n",
      "4\n",
      "6\n",
      "8\n",
      "10\n"
     ]
    }
   ],
   "source": [
    "lst = [2, 4, 6, 8, 10, 12, 14, 16, 18, 20]\n",
    "\n",
    "itr_list = iter(lst)\n",
    "#iter k sath next use krna hota h.\n",
    "\n",
    "for i in range(5):\n",
    "    print(next(itr_list))"
   ]
  },
  {
   "cell_type": "markdown",
   "id": "bb281fd0",
   "metadata": {},
   "source": [
    "#### Q4.What is a generator function in python? Why yield keyword is used? Give an example of a generator function."
   ]
  },
  {
   "cell_type": "markdown",
   "id": "920d1bfd",
   "metadata": {},
   "source": [
    "* A generator function is a special type of function that returns an iterator called a generator. It allows you to define a function that can pause its execution and resume it later, generating a sequence of values on-the-fly instead of returning them all at once. This makes generators efficient in terms of memory usage and enables the processing of large datasets or infinite sequences.\n",
    "\n",
    "* The main difference between a regular function and a generator function is the use of the **yield** keyword instead of **return** to produce a value. When a generator function encounters a yield statement, it temporarily suspends its execution and returns the yielded value. The function's state is saved, and it can be resumed later from where it left off."
   ]
  },
  {
   "cell_type": "code",
   "execution_count": 19,
   "id": "0bf9a005",
   "metadata": {},
   "outputs": [
    {
     "name": "stdout",
     "output_type": "stream",
     "text": [
      "1\n",
      "2\n",
      "3\n",
      "4\n",
      "5\n"
     ]
    }
   ],
   "source": [
    "def counter():\n",
    "    count = 1\n",
    "    while True:\n",
    "        yield count\n",
    "        count += 1\n",
    "\n",
    "counter_generator = counter()\n",
    "for i in range(5):\n",
    "    print(next(counter_generator))"
   ]
  },
  {
   "cell_type": "markdown",
   "id": "91593acc",
   "metadata": {},
   "source": [
    "#### Q5. Create a generator function for prime numbers less than 1000. Use the next() method to print the first 20 prime numbers."
   ]
  },
  {
   "cell_type": "code",
   "execution_count": 3,
   "id": "0f88a24f",
   "metadata": {},
   "outputs": [
    {
     "name": "stdout",
     "output_type": "stream",
     "text": [
      "3\n",
      "5\n",
      "7\n",
      "11\n",
      "13\n",
      "17\n",
      "19\n",
      "23\n",
      "29\n",
      "31\n",
      "37\n",
      "41\n",
      "43\n",
      "47\n",
      "53\n",
      "59\n",
      "61\n",
      "67\n",
      "71\n",
      "73\n"
     ]
    }
   ],
   "source": [
    "def generate_primes():\n",
    "    primes = [2]  # Start with 2 as the first prime number\n",
    "    num = 3      # Start checking divisibility from 3\n",
    "\n",
    "    while True:\n",
    "        is_prime = True\n",
    "        for prime in primes:\n",
    "            if num % prime == 0:\n",
    "                is_prime = False\n",
    "                break\n",
    "        if is_prime:\n",
    "            primes.append(num)\n",
    "            yield num\n",
    "        num += 2     # Increment by 2 to skip even numbers (except 2)\n",
    "\n",
    "# Create the generator object\n",
    "prime_generator = generate_primes()\n",
    "\n",
    "# Print the first 20 prime numbers\n",
    "for _ in range(20):\n",
    "    prime = next(prime_generator)\n",
    "    print(prime)\n"
   ]
  },
  {
   "cell_type": "markdown",
   "id": "76ed5c5c",
   "metadata": {},
   "source": [
    "#### Q6. Write a python program to print the first 10 Fibonacci numbers using a while loop."
   ]
  },
  {
   "cell_type": "code",
   "execution_count": 5,
   "id": "122cd198",
   "metadata": {},
   "outputs": [
    {
     "name": "stdout",
     "output_type": "stream",
     "text": [
      "0\n",
      "1\n",
      "1\n",
      "2\n",
      "3\n",
      "5\n",
      "8\n",
      "13\n",
      "21\n",
      "34\n"
     ]
    }
   ],
   "source": [
    "def fibb_while():\n",
    "    a,b = 0,1\n",
    "    while True:\n",
    "        yield a\n",
    "        a,b = b,a+b\n",
    "fib = fibb_while()\n",
    "for i in range(10):\n",
    "    print(next(fib))"
   ]
  },
  {
   "cell_type": "markdown",
   "id": "f0b173d7",
   "metadata": {},
   "source": [
    "#### Q7. Write a List Comprehension to iterate through the given string: ‘pwskills’.Expected output: ['p', 'w', 's', 'k', 'i', 'l', 'l', 's']"
   ]
  },
  {
   "cell_type": "code",
   "execution_count": 19,
   "id": "99c52f91",
   "metadata": {},
   "outputs": [
    {
     "data": {
      "text/plain": [
       "['p', 'w', 's', 'k', 'i', 'l', 'l', 's']"
      ]
     },
     "execution_count": 19,
     "metadata": {},
     "output_type": "execute_result"
    }
   ],
   "source": [
    "string = 'pwskills'\n",
    "[char for char in string]"
   ]
  },
  {
   "cell_type": "markdown",
   "id": "142ee402",
   "metadata": {},
   "source": [
    "#### Q8. Write a python program to check whether a given number is Palindrome or not using a while loop."
   ]
  },
  {
   "cell_type": "code",
   "execution_count": 12,
   "id": "02922c8f",
   "metadata": {},
   "outputs": [
    {
     "name": "stdout",
     "output_type": "stream",
     "text": [
      "Enter a number: 155\n",
      "155 is not a palindrome.\n"
     ]
    }
   ],
   "source": [
    "def is_palindrome(number):\n",
    "    reversed_number = 0\n",
    "    temp = number\n",
    "    while temp > 0:\n",
    "        digit = temp % 10\n",
    "        reversed_number = (reversed_number * 10) + digit\n",
    "        temp //= 10\n",
    "    return number == reversed_number\n",
    "num = int(input(\"Enter a number: \"))\n",
    "if is_palindrome(num):\n",
    "    print(num, \"is a palindrome!\")\n",
    "else:\n",
    "    print(num, \"is not a palindrome.\")\n"
   ]
  },
  {
   "cell_type": "markdown",
   "id": "2ef2899f",
   "metadata": {},
   "source": [
    "#### Q9. Write a code to print odd numbers from 1 to 100 using list comprehension."
   ]
  },
  {
   "cell_type": "code",
   "execution_count": 14,
   "id": "e9616112",
   "metadata": {},
   "outputs": [
    {
     "name": "stdout",
     "output_type": "stream",
     "text": [
      "[1, 3, 5, 7, 9, 11, 13, 15, 17, 19, 21, 23, 25, 27, 29, 31, 33, 35, 37, 39, 41, 43, 45, 47, 49, 51, 53, 55, 57, 59, 61, 63, 65, 67, 69, 71, 73, 75, 77, 79, 81, 83, 85, 87, 89, 91, 93, 95, 97, 99]\n"
     ]
    }
   ],
   "source": [
    "odd_number = [num for num in range(1,101) if num%2 != 0]\n",
    "print(odd_number)"
   ]
  }
 ],
 "metadata": {
  "kernelspec": {
   "display_name": "Python 3 (ipykernel)",
   "language": "python",
   "name": "python3"
  },
  "language_info": {
   "codemirror_mode": {
    "name": "ipython",
    "version": 3
   },
   "file_extension": ".py",
   "mimetype": "text/x-python",
   "name": "python",
   "nbconvert_exporter": "python",
   "pygments_lexer": "ipython3",
   "version": "3.11.0"
  }
 },
 "nbformat": 4,
 "nbformat_minor": 5
}
