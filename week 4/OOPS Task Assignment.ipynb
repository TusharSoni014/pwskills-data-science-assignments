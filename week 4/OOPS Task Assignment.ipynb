{
 "cells": [
  {
   "cell_type": "markdown",
   "id": "0caa4c74",
   "metadata": {},
   "source": [
    "#### Q1. Create a vehicle class with an init method having instance variables as name_of_vehicle, max_speed and average_of_vehicle."
   ]
  },
  {
   "cell_type": "code",
   "execution_count": 5,
   "id": "8451db31",
   "metadata": {},
   "outputs": [],
   "source": [
    "class Vehicle:\n",
    "    def __init__(self, name_of_vehicle,max_speed,average_of_vehicle):\n",
    "        self.name_of_vehicle = name_of_vehicle\n",
    "        self.max_speed = max_speed\n",
    "        self.average_of_vehicle = average_of_vehicle"
   ]
  },
  {
   "cell_type": "markdown",
   "id": "c159fdda",
   "metadata": {},
   "source": [
    "#### Q2. Create a child class car from the vehicle class created in Que 1, which will inherit the vehicle class.Create a method named seating_capacity which takes capacity as an argument and returns the name of the vehicle and its seating capacity."
   ]
  },
  {
   "cell_type": "code",
   "execution_count": 7,
   "id": "b25c2a5d",
   "metadata": {},
   "outputs": [],
   "source": [
    "class Car(Vehicle):\n",
    "    def seating_capacity(self, capacity):\n",
    "        return self.name_of_vehicle, self.capacity"
   ]
  },
  {
   "cell_type": "markdown",
   "id": "885c004c",
   "metadata": {},
   "source": [
    "#### Q3. What is multiple inheritance? Write a python code to demonstrate multiple inheritance."
   ]
  },
  {
   "cell_type": "markdown",
   "id": "04895bc0",
   "metadata": {},
   "source": [
    "Multiple inheritance is a feature in OOPS where a class can inherit attributes and methods from multiple parent classes. In other words, a class can inherit from more than one base class. This allows the derived class (child class) to inherit and combine the features and behaviors of multiple parent classes."
   ]
  },
  {
   "cell_type": "code",
   "execution_count": 9,
   "id": "3d6b3e6a",
   "metadata": {},
   "outputs": [],
   "source": [
    "class Truck(Car, Vehicle):\n",
    "    pass"
   ]
  },
  {
   "cell_type": "markdown",
   "id": "3af7e862",
   "metadata": {},
   "source": [
    "This Truck class inherited the features of both Car and Vehicle Classes, hence its a multiple inheritence."
   ]
  },
  {
   "cell_type": "markdown",
   "id": "a17e5891",
   "metadata": {},
   "source": [
    "#### Q4. What are getter and setter in python? Create a class and create a getter and a setter method in this class."
   ]
  },
  {
   "cell_type": "markdown",
   "id": "68144d8b",
   "metadata": {},
   "source": [
    "In Python, getters and setters are methods used to access (get) and modify (set) the values of class attributes. They provide a way to encapsulate attribute access and allow for additional logic or validation when getting or setting the values.\n",
    "\n",
    "* Getter: A getter method, typically prefixed with get_ or decorated with `@property`, is used to retrieve the value of an attribute. It provides read-only access to the attribute and allows you to perform operations or calculations before returning the value.\n",
    "\n",
    "* Setter: A setter method, typically prefixed with set_ or decorated with `@attribute_name.setter`, is used to modify the value of an attribute. It provides a way to enforce validation rules, perform data conversions, or trigger actions when setting the value."
   ]
  },
  {
   "cell_type": "code",
   "execution_count": 6,
   "id": "77bf16e7",
   "metadata": {},
   "outputs": [],
   "source": [
    "class Digital_Product:\n",
    "    \n",
    "    def __init__(self,name,sales):\n",
    "        self.name = name\n",
    "        self.__sales = sales\n",
    "        \n",
    "    @property\n",
    "    def sales_access(self):\n",
    "        return self.__sales\n",
    "    \n",
    "    @sales_access.setter\n",
    "    def update_sales(self,new_sales):\n",
    "        self.__sales = new_sales"
   ]
  },
  {
   "cell_type": "code",
   "execution_count": 7,
   "id": "0cece129",
   "metadata": {},
   "outputs": [],
   "source": [
    "product1 = Digital_Product(\"python course\",100)"
   ]
  },
  {
   "cell_type": "code",
   "execution_count": 9,
   "id": "129c9295",
   "metadata": {},
   "outputs": [
    {
     "data": {
      "text/plain": [
       "100"
      ]
     },
     "execution_count": 9,
     "metadata": {},
     "output_type": "execute_result"
    }
   ],
   "source": [
    "product1.sales_access #getters"
   ]
  },
  {
   "cell_type": "code",
   "execution_count": 12,
   "id": "42cb22cf",
   "metadata": {},
   "outputs": [],
   "source": [
    "product1.update_sales = 250 #setters"
   ]
  },
  {
   "cell_type": "code",
   "execution_count": 13,
   "id": "4b1cfc21",
   "metadata": {},
   "outputs": [
    {
     "data": {
      "text/plain": [
       "250"
      ]
     },
     "execution_count": 13,
     "metadata": {},
     "output_type": "execute_result"
    }
   ],
   "source": [
    "product1.sales_access"
   ]
  },
  {
   "cell_type": "markdown",
   "id": "e28ac9d7",
   "metadata": {},
   "source": [
    "#### Q5. What is method overriding in python? Write a python code to demonstrate method overriding."
   ]
  },
  {
   "cell_type": "markdown",
   "id": "38b90396",
   "metadata": {},
   "source": [
    "Method overriding is a feature in OOPS that allows a subclass to provide a different implementation of a method that is already defined in its superclass. It enables the subclass to provide its own specialized implementation of the method while maintaining the same name and signature as the method in the superclass."
   ]
  },
  {
   "cell_type": "code",
   "execution_count": 16,
   "id": "d226e7c3",
   "metadata": {},
   "outputs": [],
   "source": [
    "class Animal:\n",
    "    def make_sound(self):\n",
    "        print(\"Generic animal sound\")\n",
    "\n",
    "class Dog(Animal):\n",
    "    def make_sound(self):\n",
    "        print(\"Bark\")\n",
    "\n",
    "class Cat(Animal):\n",
    "    def make_sound(self):\n",
    "        print(\"Meow\")"
   ]
  },
  {
   "cell_type": "code",
   "execution_count": 17,
   "id": "1caeff8f",
   "metadata": {},
   "outputs": [
    {
     "name": "stdout",
     "output_type": "stream",
     "text": [
      "Generic animal sound\n",
      "Bark\n",
      "Meow\n"
     ]
    }
   ],
   "source": [
    "animal = Animal()\n",
    "animal.make_sound()\n",
    "\n",
    "dog = Dog()\n",
    "dog.make_sound()\n",
    "\n",
    "cat = Cat()\n",
    "cat.make_sound()"
   ]
  }
 ],
 "metadata": {
  "kernelspec": {
   "display_name": "Python 3 (ipykernel)",
   "language": "python",
   "name": "python3"
  },
  "language_info": {
   "codemirror_mode": {
    "name": "ipython",
    "version": 3
   },
   "file_extension": ".py",
   "mimetype": "text/x-python",
   "name": "python",
   "nbconvert_exporter": "python",
   "pygments_lexer": "ipython3",
   "version": "3.11.0"
  }
 },
 "nbformat": 4,
 "nbformat_minor": 5
}
