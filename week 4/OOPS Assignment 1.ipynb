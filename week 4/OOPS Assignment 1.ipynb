{
 "cells": [
  {
   "cell_type": "markdown",
   "id": "2c9146fe",
   "metadata": {},
   "source": [
    "#### Q1. Explain Class and Object with respect to Object-Oriented Programming. Give a suitable example."
   ]
  },
  {
   "cell_type": "markdown",
   "id": "735006de",
   "metadata": {},
   "source": [
    "* In object-oriented programming (OOP), a class is a blueprint or a template that defines the properties (attributes) and behaviors (methods) that an object of that class will have. It serves as a blueprint for creating objects. A class defines a common structure and behavior that objects of that class will possess.\n",
    "\n",
    "* An object, on the other hand, is an instance of a class. It represents a specific entity or concept that is created based on the class definition. Objects are created from classes and have their own unique set of attributes and behavior, which are defined by the class."
   ]
  },
  {
   "cell_type": "code",
   "execution_count": 3,
   "id": "6f0d5e1d",
   "metadata": {},
   "outputs": [],
   "source": [
    "class Car:\n",
    "    def __init__(self, make, model, year):\n",
    "        self.make = make\n",
    "        self.model = model\n",
    "        self.year = year\n",
    "\n",
    "    def start_engine(self):\n",
    "        print(\"Engine started.\")\n",
    "\n",
    "    def stop_engine(self):\n",
    "        print(\"Engine stopped.\")"
   ]
  },
  {
   "cell_type": "code",
   "execution_count": 5,
   "id": "c76e2070",
   "metadata": {},
   "outputs": [],
   "source": [
    "car1 = Car(\"Toyota\", \"Camry\", 2022)\n",
    "car2 = Car(\"Honda\", \"Accord\", 2021)"
   ]
  },
  {
   "cell_type": "code",
   "execution_count": 7,
   "id": "16c61f70",
   "metadata": {},
   "outputs": [
    {
     "name": "stdout",
     "output_type": "stream",
     "text": [
      "Toyota\n",
      "Accord\n",
      "Engine started.\n",
      "Engine stopped.\n"
     ]
    }
   ],
   "source": [
    "print(car1.make)\n",
    "print(car2.model) \n",
    "\n",
    "car1.start_engine()\n",
    "car2.stop_engine() "
   ]
  },
  {
   "cell_type": "markdown",
   "id": "239d5658",
   "metadata": {},
   "source": [
    "#### Q2. Name the four pillars of OOPs."
   ]
  },
  {
   "cell_type": "markdown",
   "id": "818ce74f",
   "metadata": {},
   "source": [
    "* Encapsulation\n",
    "* Inheritance\n",
    "* Polymorphism\n",
    "* Abstraction"
   ]
  },
  {
   "cell_type": "markdown",
   "id": "c451b250",
   "metadata": {},
   "source": [
    "#### Q3. Explain why the `__init__()` function is used. Give a suitable example."
   ]
  },
  {
   "cell_type": "markdown",
   "id": "71a56c24",
   "metadata": {},
   "source": [
    "The `__init__()` function is a special method in Python classes that is automatically called when an object is created from a class. It is commonly used to initialize the attributes of an object with specific values or perform any necessary setup operations."
   ]
  },
  {
   "cell_type": "code",
   "execution_count": 12,
   "id": "563c4dba",
   "metadata": {},
   "outputs": [
    {
     "name": "stdout",
     "output_type": "stream",
     "text": [
      "My name is rohan and I am 30 years old.\n",
      "My name is suresh and I am 25 years old.\n"
     ]
    }
   ],
   "source": [
    "class Person:\n",
    "    def __init__(self, name, age):\n",
    "        self.name = name\n",
    "        self.age = age\n",
    "\n",
    "    def introduce(self):\n",
    "        print(f\"My name is {self.name} and I am {self.age} years old.\")\n",
    "\n",
    "person1 = Person(\"rohan\", 30)\n",
    "person1.introduce()\n",
    "\n",
    "person2 = Person(\"suresh\", 25)\n",
    "person2.introduce()"
   ]
  },
  {
   "cell_type": "markdown",
   "id": "1fe56fbd",
   "metadata": {},
   "source": [
    "#### Q4. Why self is used in OOPs?"
   ]
  },
  {
   "cell_type": "markdown",
   "id": "f4b85029",
   "metadata": {},
   "source": [
    "* In object-oriented programming (OOP), self is a reference to the current instance of a class. It is used within class methods to access and manipulate the attributes and methods of the object. By convention, the first parameter of a class method is named self, although you can choose any valid variable name.\n",
    "\n",
    "* Using self allows you to maintain the state of the object and interact with its own data. It distinguishes instance variables from local variables within the scope of the class. self enables encapsulation, where data and behavior are grouped together within an object."
   ]
  },
  {
   "cell_type": "code",
   "execution_count": 15,
   "id": "5d70f0c7",
   "metadata": {},
   "outputs": [
    {
     "name": "stdout",
     "output_type": "stream",
     "text": [
      "Radius: 5\n",
      "78.5\n"
     ]
    }
   ],
   "source": [
    "class Circle:\n",
    "    def __init__(self, radius):\n",
    "        self.radius = radius\n",
    "    def calculate_area(self):\n",
    "        area = 3.14 * self.radius * self.radius\n",
    "        return area\n",
    "    def print_radius(self):\n",
    "        print(\"Radius:\", self.radius)\n",
    "\n",
    "circle1 = Circle(5)\n",
    "circle1.print_radius()\n",
    "print(circle1.calculate_area()) "
   ]
  },
  {
   "cell_type": "markdown",
   "id": "c9b4c750",
   "metadata": {},
   "source": [
    "#### Q5. What is inheritance? Give an example for each type of inheritance."
   ]
  },
  {
   "cell_type": "code",
   "execution_count": 18,
   "id": "c2617788",
   "metadata": {},
   "outputs": [
    {
     "name": "stdout",
     "output_type": "stream",
     "text": [
      "Breathing\n",
      "Barking\n",
      "Breathing\n",
      "Meowing\n"
     ]
    }
   ],
   "source": [
    "class Animal:\n",
    "    def breathe(self):\n",
    "        print(\"Breathing\")\n",
    "\n",
    "class Dog(Animal):\n",
    "    def bark(self):\n",
    "        print(\"Barking\")\n",
    "\n",
    "class Cat(Animal):\n",
    "    def meow(self):\n",
    "        print(\"Meowing\")\n",
    "\n",
    "dog = Dog()\n",
    "dog.breathe()\n",
    "dog.bark()\n",
    "\n",
    "cat = Cat()\n",
    "cat.breathe()\n",
    "cat.meow()"
   ]
  }
 ],
 "metadata": {
  "kernelspec": {
   "display_name": "Python 3 (ipykernel)",
   "language": "python",
   "name": "python3"
  },
  "language_info": {
   "codemirror_mode": {
    "name": "ipython",
    "version": 3
   },
   "file_extension": ".py",
   "mimetype": "text/x-python",
   "name": "python",
   "nbconvert_exporter": "python",
   "pygments_lexer": "ipython3",
   "version": "3.11.0"
  }
 },
 "nbformat": 4,
 "nbformat_minor": 5
}
