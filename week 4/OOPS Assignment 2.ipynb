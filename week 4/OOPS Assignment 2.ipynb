{
 "cells": [
  {
   "cell_type": "markdown",
   "id": "63e01395",
   "metadata": {},
   "source": [
    "#### Q1. What is Abstraction in OOps? Explain with an example."
   ]
  },
  {
   "cell_type": "markdown",
   "id": "fa44f3e1",
   "metadata": {},
   "source": [
    "Abstraction is a fundamental concept in object-oriented programming (OOP) that focuses on representing the essential features of an object while hiding unnecessary details. It allows us to create abstract classes or interfaces that define a common structure and behavior without specifying the implementation, these classes are like a blueprint for other classes which will inherit them."
   ]
  },
  {
   "cell_type": "code",
   "execution_count": 2,
   "id": "0de612ea",
   "metadata": {},
   "outputs": [
    {
     "name": "stdout",
     "output_type": "stream",
     "text": [
      "Bark\n",
      "Meow\n"
     ]
    }
   ],
   "source": [
    "from abc import ABC, abstractmethod\n",
    "\n",
    "class Animal(ABC):\n",
    "    @abstractmethod\n",
    "    def make_sound(self):\n",
    "        pass\n",
    "\n",
    "class Dog(Animal):\n",
    "    def make_sound(self):\n",
    "        print(\"Bark\")\n",
    "\n",
    "class Cat(Animal):\n",
    "    def make_sound(self):\n",
    "        print(\"Meow\")\n",
    "        \n",
    "dog = Dog()\n",
    "dog.make_sound()\n",
    "\n",
    "cat = Cat()\n",
    "cat.make_sound()"
   ]
  },
  {
   "cell_type": "markdown",
   "id": "d4578b16",
   "metadata": {},
   "source": [
    "#### Q2. Differentiate between Abstraction and Encapsulation. Explain with an example."
   ]
  },
  {
   "cell_type": "markdown",
   "id": "9d81b75c",
   "metadata": {},
   "source": [
    "* Abstraction focuses on representing the essential features of an object while hiding unnecessary details. It allows us to create abstract classes or interfaces that define a common structure and behavior without specifying the implementation. Abstraction helps manage complexity and provides a higher-level view of objects.\n",
    "\n",
    "* Encapsulation is the bundling of data (attributes) and methods (behaviors) together within a class, while restricting direct access to the internal implementation details. Encapsulation promotes data hiding and provides a clean interface to interact with the class. It ensures data integrity and helps in organizing and managing code."
   ]
  },
  {
   "cell_type": "code",
   "execution_count": 6,
   "id": "3623bedf",
   "metadata": {},
   "outputs": [],
   "source": [
    "import abc\n",
    "class BankAccount:\n",
    "    @abc.abstractmethod\n",
    "    def __init__(self, account_number, balance):\n",
    "        self.__account_number = account_number\n",
    "        self.__balance = balance\n",
    "    @abc.abstractmethod\n",
    "    def deposit(self):\n",
    "        pass\n",
    "    \n",
    "    @abc.abstractmethod\n",
    "    def withdraw(self):\n",
    "        pass\n",
    "    \n",
    "    @abc.abstractmethod\n",
    "    def get_balance(self):\n",
    "        pass"
   ]
  },
  {
   "cell_type": "code",
   "execution_count": 7,
   "id": "95fdcdfa",
   "metadata": {},
   "outputs": [],
   "source": [
    "class PnbBankAccount(BankAccount):\n",
    "    def __init__(self, account_number, balance):\n",
    "        self.__account_number = account_number\n",
    "        self.__balance = balance\n",
    "\n",
    "    def deposit(self, amount):\n",
    "        self.__balance += amount\n",
    "\n",
    "    def withdraw(self, amount):\n",
    "        if self.__balance >= amount:\n",
    "            self.__balance -= amount\n",
    "        else:\n",
    "            print(\"Insufficient balance.\")\n",
    "\n",
    "    def get_balance(self):\n",
    "        return self.__balance"
   ]
  },
  {
   "cell_type": "markdown",
   "id": "c06bc07b",
   "metadata": {},
   "source": [
    "In the above example, `__balance` is encapsulated to private, and for the bank class we can have a blueprint class."
   ]
  },
  {
   "cell_type": "markdown",
   "id": "697eb561",
   "metadata": {},
   "source": [
    "#### Q3. What is abc module in python? Why is it used?"
   ]
  },
  {
   "cell_type": "markdown",
   "id": "6b97fcc6",
   "metadata": {},
   "source": [
    "The abc module provides the ABC class and the abstractmethod decorator, which are used to define abstract base classes and abstract methods."
   ]
  },
  {
   "cell_type": "markdown",
   "id": "2bcad8e9",
   "metadata": {},
   "source": [
    "* ABC class: It is a helper class provided by the abc module. Abstract base classes are created by inheriting from this class. It can be used as a metaclass or as a base class for other metaclasses.\n",
    "\n",
    "* abstractmethod decorator: It is a decorator provided by the abc module that marks a method as an abstract method. Abstract methods have no implementation and must be overridden by the subclasses."
   ]
  },
  {
   "cell_type": "code",
   "execution_count": 11,
   "id": "9f9a9860",
   "metadata": {},
   "outputs": [],
   "source": [
    "from abc import ABC, abstractmethod\n",
    "\n",
    "class Shape(ABC):\n",
    "    \n",
    "    @abstractmethod\n",
    "    def area(self):\n",
    "        pass\n",
    "\n",
    "class Rectangle(Shape):\n",
    "    def __init__(self, width, height):\n",
    "        self.width = width\n",
    "        self.height = height\n",
    "\n",
    "    def area(self):\n",
    "        return self.width * self.height"
   ]
  },
  {
   "cell_type": "code",
   "execution_count": 15,
   "id": "c4aaac42",
   "metadata": {},
   "outputs": [
    {
     "name": "stdout",
     "output_type": "stream",
     "text": [
      "15\n"
     ]
    }
   ],
   "source": [
    "rectangle = Rectangle(5, 3)\n",
    "print(rectangle.area())"
   ]
  },
  {
   "cell_type": "markdown",
   "id": "505234b5",
   "metadata": {},
   "source": [
    "#### Q4. How can we achieve data abstraction?"
   ]
  },
  {
   "cell_type": "markdown",
   "id": "da1d038d",
   "metadata": {},
   "source": [
    "In Python, data abstraction can be achieved through the use of classes, where you can define attributes and methods that represent the essential features and behavior of an object while hiding the implementation details. Here are some techniques to achieve data abstraction:\n",
    "\n",
    "* Encapsulation\n",
    "\n",
    "* Access Modifiers\n",
    "\n",
    "* Getters and Setters\n",
    "\n",
    "* Abstract Base Classes (ABC)"
   ]
  },
  {
   "cell_type": "markdown",
   "id": "b0b9aed0",
   "metadata": {},
   "source": [
    "#### Q5. Can we create an instance of an abstract class? Explain your answer."
   ]
  },
  {
   "cell_type": "markdown",
   "id": "fea6cfe8",
   "metadata": {},
   "source": [
    "No, we cannot create an instance of an abstract class in Python. Abstract classes are designed to be incomplete and serve as blueprints or contracts for the subclasses to provide their own implementation of abstract methods."
   ]
  },
  {
   "cell_type": "code",
   "execution_count": 17,
   "id": "c98eca96",
   "metadata": {},
   "outputs": [
    {
     "ename": "TypeError",
     "evalue": "Can't instantiate abstract class AbstractClass with abstract method abstract_method",
     "output_type": "error",
     "traceback": [
      "\u001b[1;31m---------------------------------------------------------------------------\u001b[0m",
      "\u001b[1;31mTypeError\u001b[0m                                 Traceback (most recent call last)",
      "Cell \u001b[1;32mIn[17], line 8\u001b[0m\n\u001b[0;32m      4\u001b[0m     \u001b[38;5;129m@abstractmethod\u001b[39m\n\u001b[0;32m      5\u001b[0m     \u001b[38;5;28;01mdef\u001b[39;00m \u001b[38;5;21mabstract_method\u001b[39m(\u001b[38;5;28mself\u001b[39m):\n\u001b[0;32m      6\u001b[0m         \u001b[38;5;28;01mpass\u001b[39;00m\n\u001b[1;32m----> 8\u001b[0m obj \u001b[38;5;241m=\u001b[39m \u001b[43mAbstractClass\u001b[49m\u001b[43m(\u001b[49m\u001b[43m)\u001b[49m\n",
      "\u001b[1;31mTypeError\u001b[0m: Can't instantiate abstract class AbstractClass with abstract method abstract_method"
     ]
    }
   ],
   "source": [
    "from abc import ABC, abstractmethod\n",
    "\n",
    "class AbstractClass(ABC):\n",
    "    @abstractmethod\n",
    "    def abstract_method(self):\n",
    "        pass\n",
    "\n",
    "obj = AbstractClass()\n"
   ]
  }
 ],
 "metadata": {
  "kernelspec": {
   "display_name": "Python 3 (ipykernel)",
   "language": "python",
   "name": "python3"
  },
  "language_info": {
   "codemirror_mode": {
    "name": "ipython",
    "version": 3
   },
   "file_extension": ".py",
   "mimetype": "text/x-python",
   "name": "python",
   "nbconvert_exporter": "python",
   "pygments_lexer": "ipython3",
   "version": "3.11.0"
  }
 },
 "nbformat": 4,
 "nbformat_minor": 5
}
